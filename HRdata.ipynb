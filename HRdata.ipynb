{
  "nbformat": 4,
  "nbformat_minor": 0,
  "metadata": {
    "colab": {
      "provenance": []
    },
    "kernelspec": {
      "name": "python3",
      "display_name": "Python 3"
    },
    "language_info": {
      "name": "python"
    }
  },
  "cells": [
    {
      "cell_type": "code",
      "source": [
        "# here in this hr datasets i tried same as that of diabetes by splitting the datasets into training and testing\n",
        "#and to make model to predict whether the person satisfying all those features is promoted or not? this is because it is easy to classify the \n",
        "#those features that has only two variable 1 or 0 .\n",
        "#it also has the null values in two columns education and previous_yr_rating and fill with their respective means.\n",
        "#since there are number of columns which are in string i drop them all thinking that does not affect in overall model \n",
        "#still there are lots of missing values in previous_rating_year so i use imputer and mean to fill the values and for this i couldnt do in numpy array elements so i convert it to the dataframe\n",
        "#by mentioning all the columns name manually after that i trained using svm and accuracy is 92%.\n",
        "import numpy as np\n",
        "import pandas as pd\n",
        "from sklearn.preprocessing import StandardScaler\n",
        "from sklearn.metrics import accuracy_score\n",
        "from sklearn.model_selection import train_test_split\n",
        "from sklearn.impute import SimpleImputer\n",
        "from sklearn import svm"
      ],
      "metadata": {
        "id": "fzfwgdfAjjCq"
      },
      "execution_count": 1,
      "outputs": []
    },
    {
      "cell_type": "code",
      "source": [
        "hr_ds = pd.read_csv('/content/HRdata.csv')"
      ],
      "metadata": {
        "id": "Qlg-fxShjwuV"
      },
      "execution_count": 2,
      "outputs": []
    },
    {
      "cell_type": "code",
      "source": [
        "print(hr_ds.head())"
      ],
      "metadata": {
        "colab": {
          "base_uri": "https://localhost:8080/"
        },
        "id": "1pd2zRojkGjs",
        "outputId": "785eab49-a97c-4644-b4db-6fab73ccf501"
      },
      "execution_count": 3,
      "outputs": [
        {
          "output_type": "stream",
          "name": "stdout",
          "text": [
            "   employee_id         department     region         education gender  \\\n",
            "0        65438  Sales & Marketing   region_7  Master's & above      f   \n",
            "1        65141         Operations  region_22        Bachelor's      m   \n",
            "2         7513  Sales & Marketing  region_19        Bachelor's      m   \n",
            "3         2542  Sales & Marketing  region_23        Bachelor's      m   \n",
            "4        48945         Technology  region_26        Bachelor's      m   \n",
            "\n",
            "  recruitment_channel  no_of_trainings  age  previous_year_rating  \\\n",
            "0            sourcing                1   35                   5.0   \n",
            "1               other                1   30                   5.0   \n",
            "2            sourcing                1   34                   3.0   \n",
            "3               other                2   39                   1.0   \n",
            "4               other                1   45                   3.0   \n",
            "\n",
            "   length_of_service  KPIs_met >80%  awards_won?  avg_training_score  \\\n",
            "0                  8              1            0                  49   \n",
            "1                  4              0            0                  60   \n",
            "2                  7              0            0                  50   \n",
            "3                 10              0            0                  50   \n",
            "4                  2              0            0                  73   \n",
            "\n",
            "   is_promoted  \n",
            "0            0  \n",
            "1            0  \n",
            "2            0  \n",
            "3            0  \n",
            "4            0  \n"
          ]
        }
      ]
    },
    {
      "cell_type": "code",
      "source": [
        "hr_ds.info()"
      ],
      "metadata": {
        "colab": {
          "base_uri": "https://localhost:8080/"
        },
        "id": "uHhWbKRwkNYQ",
        "outputId": "32222a75-905e-4319-d809-1a1d66f07736"
      },
      "execution_count": 4,
      "outputs": [
        {
          "output_type": "stream",
          "name": "stdout",
          "text": [
            "<class 'pandas.core.frame.DataFrame'>\n",
            "RangeIndex: 54808 entries, 0 to 54807\n",
            "Data columns (total 14 columns):\n",
            " #   Column                Non-Null Count  Dtype  \n",
            "---  ------                --------------  -----  \n",
            " 0   employee_id           54808 non-null  int64  \n",
            " 1   department            54808 non-null  object \n",
            " 2   region                54808 non-null  object \n",
            " 3   education             52399 non-null  object \n",
            " 4   gender                54808 non-null  object \n",
            " 5   recruitment_channel   54808 non-null  object \n",
            " 6   no_of_trainings       54808 non-null  int64  \n",
            " 7   age                   54808 non-null  int64  \n",
            " 8   previous_year_rating  50684 non-null  float64\n",
            " 9   length_of_service     54808 non-null  int64  \n",
            " 10  KPIs_met >80%         54808 non-null  int64  \n",
            " 11  awards_won?           54808 non-null  int64  \n",
            " 12  avg_training_score    54808 non-null  int64  \n",
            " 13  is_promoted           54808 non-null  int64  \n",
            "dtypes: float64(1), int64(8), object(5)\n",
            "memory usage: 5.9+ MB\n"
          ]
        }
      ]
    },
    {
      "cell_type": "code",
      "source": [
        "hr_ds.isnull().sum()"
      ],
      "metadata": {
        "colab": {
          "base_uri": "https://localhost:8080/"
        },
        "id": "DNa8lMtFkZ_O",
        "outputId": "30463e77-0771-4ac7-d1e8-3000d4620373"
      },
      "execution_count": 5,
      "outputs": [
        {
          "output_type": "execute_result",
          "data": {
            "text/plain": [
              "employee_id                0\n",
              "department                 0\n",
              "region                     0\n",
              "education               2409\n",
              "gender                     0\n",
              "recruitment_channel        0\n",
              "no_of_trainings            0\n",
              "age                        0\n",
              "previous_year_rating    4124\n",
              "length_of_service          0\n",
              "KPIs_met >80%              0\n",
              "awards_won?                0\n",
              "avg_training_score         0\n",
              "is_promoted                0\n",
              "dtype: int64"
            ]
          },
          "metadata": {},
          "execution_count": 5
        }
      ]
    },
    {
      "cell_type": "code",
      "source": [
        "# department_df = pd.get_dummies(hr_ds['department'], prefix='department')\n",
        "# hr_ds_new = pd.concat([hr_ds, department_df], axis=1)\n",
        "# cols_to_drop = ['employee_id', 'department', 'region', 'education', 'gender', 'recruitment_channel']\n",
        "# hr_ds_new.drop(cols_to_drop, axis=1, inplace=True)\n",
        "\n",
        "department_df = pd.get_dummies(hr_ds['department'], prefix='department')\n",
        "hr_ds = pd.concat([hr_ds, department_df], axis=1)\n",
        "cols_to_drop = ['employee_id', 'department', 'region', 'education', 'gender', 'recruitment_channel']\n",
        "hr_ds.drop(cols_to_drop, axis=1, inplace=True)"
      ],
      "metadata": {
        "id": "e_05FyIxysV3"
      },
      "execution_count": 6,
      "outputs": []
    },
    {
      "cell_type": "code",
      "source": [
        "hr_ds.head()"
      ],
      "metadata": {
        "colab": {
          "base_uri": "https://localhost:8080/",
          "height": 287
        },
        "id": "-i28FTdSzfF2",
        "outputId": "0e636620-24da-4162-e2f1-90157150ce8d"
      },
      "execution_count": 7,
      "outputs": [
        {
          "output_type": "execute_result",
          "data": {
            "text/plain": [
              "   no_of_trainings  age  previous_year_rating  length_of_service  \\\n",
              "0                1   35                   5.0                  8   \n",
              "1                1   30                   5.0                  4   \n",
              "2                1   34                   3.0                  7   \n",
              "3                2   39                   1.0                 10   \n",
              "4                1   45                   3.0                  2   \n",
              "\n",
              "   KPIs_met >80%  awards_won?  avg_training_score  is_promoted  \\\n",
              "0              1            0                  49            0   \n",
              "1              0            0                  60            0   \n",
              "2              0            0                  50            0   \n",
              "3              0            0                  50            0   \n",
              "4              0            0                  73            0   \n",
              "\n",
              "   department_Analytics  department_Finance  department_HR  department_Legal  \\\n",
              "0                     0                   0              0                 0   \n",
              "1                     0                   0              0                 0   \n",
              "2                     0                   0              0                 0   \n",
              "3                     0                   0              0                 0   \n",
              "4                     0                   0              0                 0   \n",
              "\n",
              "   department_Operations  department_Procurement  department_R&D  \\\n",
              "0                      0                       0               0   \n",
              "1                      1                       0               0   \n",
              "2                      0                       0               0   \n",
              "3                      0                       0               0   \n",
              "4                      0                       0               0   \n",
              "\n",
              "   department_Sales & Marketing  department_Technology  \n",
              "0                             1                      0  \n",
              "1                             0                      0  \n",
              "2                             1                      0  \n",
              "3                             1                      0  \n",
              "4                             0                      1  "
            ],
            "text/html": [
              "\n",
              "  <div id=\"df-d89fee46-9fb6-4f00-aeb6-6c86e70ccb47\">\n",
              "    <div class=\"colab-df-container\">\n",
              "      <div>\n",
              "<style scoped>\n",
              "    .dataframe tbody tr th:only-of-type {\n",
              "        vertical-align: middle;\n",
              "    }\n",
              "\n",
              "    .dataframe tbody tr th {\n",
              "        vertical-align: top;\n",
              "    }\n",
              "\n",
              "    .dataframe thead th {\n",
              "        text-align: right;\n",
              "    }\n",
              "</style>\n",
              "<table border=\"1\" class=\"dataframe\">\n",
              "  <thead>\n",
              "    <tr style=\"text-align: right;\">\n",
              "      <th></th>\n",
              "      <th>no_of_trainings</th>\n",
              "      <th>age</th>\n",
              "      <th>previous_year_rating</th>\n",
              "      <th>length_of_service</th>\n",
              "      <th>KPIs_met &gt;80%</th>\n",
              "      <th>awards_won?</th>\n",
              "      <th>avg_training_score</th>\n",
              "      <th>is_promoted</th>\n",
              "      <th>department_Analytics</th>\n",
              "      <th>department_Finance</th>\n",
              "      <th>department_HR</th>\n",
              "      <th>department_Legal</th>\n",
              "      <th>department_Operations</th>\n",
              "      <th>department_Procurement</th>\n",
              "      <th>department_R&amp;D</th>\n",
              "      <th>department_Sales &amp; Marketing</th>\n",
              "      <th>department_Technology</th>\n",
              "    </tr>\n",
              "  </thead>\n",
              "  <tbody>\n",
              "    <tr>\n",
              "      <th>0</th>\n",
              "      <td>1</td>\n",
              "      <td>35</td>\n",
              "      <td>5.0</td>\n",
              "      <td>8</td>\n",
              "      <td>1</td>\n",
              "      <td>0</td>\n",
              "      <td>49</td>\n",
              "      <td>0</td>\n",
              "      <td>0</td>\n",
              "      <td>0</td>\n",
              "      <td>0</td>\n",
              "      <td>0</td>\n",
              "      <td>0</td>\n",
              "      <td>0</td>\n",
              "      <td>0</td>\n",
              "      <td>1</td>\n",
              "      <td>0</td>\n",
              "    </tr>\n",
              "    <tr>\n",
              "      <th>1</th>\n",
              "      <td>1</td>\n",
              "      <td>30</td>\n",
              "      <td>5.0</td>\n",
              "      <td>4</td>\n",
              "      <td>0</td>\n",
              "      <td>0</td>\n",
              "      <td>60</td>\n",
              "      <td>0</td>\n",
              "      <td>0</td>\n",
              "      <td>0</td>\n",
              "      <td>0</td>\n",
              "      <td>0</td>\n",
              "      <td>1</td>\n",
              "      <td>0</td>\n",
              "      <td>0</td>\n",
              "      <td>0</td>\n",
              "      <td>0</td>\n",
              "    </tr>\n",
              "    <tr>\n",
              "      <th>2</th>\n",
              "      <td>1</td>\n",
              "      <td>34</td>\n",
              "      <td>3.0</td>\n",
              "      <td>7</td>\n",
              "      <td>0</td>\n",
              "      <td>0</td>\n",
              "      <td>50</td>\n",
              "      <td>0</td>\n",
              "      <td>0</td>\n",
              "      <td>0</td>\n",
              "      <td>0</td>\n",
              "      <td>0</td>\n",
              "      <td>0</td>\n",
              "      <td>0</td>\n",
              "      <td>0</td>\n",
              "      <td>1</td>\n",
              "      <td>0</td>\n",
              "    </tr>\n",
              "    <tr>\n",
              "      <th>3</th>\n",
              "      <td>2</td>\n",
              "      <td>39</td>\n",
              "      <td>1.0</td>\n",
              "      <td>10</td>\n",
              "      <td>0</td>\n",
              "      <td>0</td>\n",
              "      <td>50</td>\n",
              "      <td>0</td>\n",
              "      <td>0</td>\n",
              "      <td>0</td>\n",
              "      <td>0</td>\n",
              "      <td>0</td>\n",
              "      <td>0</td>\n",
              "      <td>0</td>\n",
              "      <td>0</td>\n",
              "      <td>1</td>\n",
              "      <td>0</td>\n",
              "    </tr>\n",
              "    <tr>\n",
              "      <th>4</th>\n",
              "      <td>1</td>\n",
              "      <td>45</td>\n",
              "      <td>3.0</td>\n",
              "      <td>2</td>\n",
              "      <td>0</td>\n",
              "      <td>0</td>\n",
              "      <td>73</td>\n",
              "      <td>0</td>\n",
              "      <td>0</td>\n",
              "      <td>0</td>\n",
              "      <td>0</td>\n",
              "      <td>0</td>\n",
              "      <td>0</td>\n",
              "      <td>0</td>\n",
              "      <td>0</td>\n",
              "      <td>0</td>\n",
              "      <td>1</td>\n",
              "    </tr>\n",
              "  </tbody>\n",
              "</table>\n",
              "</div>\n",
              "      <button class=\"colab-df-convert\" onclick=\"convertToInteractive('df-d89fee46-9fb6-4f00-aeb6-6c86e70ccb47')\"\n",
              "              title=\"Convert this dataframe to an interactive table.\"\n",
              "              style=\"display:none;\">\n",
              "        \n",
              "  <svg xmlns=\"http://www.w3.org/2000/svg\" height=\"24px\"viewBox=\"0 0 24 24\"\n",
              "       width=\"24px\">\n",
              "    <path d=\"M0 0h24v24H0V0z\" fill=\"none\"/>\n",
              "    <path d=\"M18.56 5.44l.94 2.06.94-2.06 2.06-.94-2.06-.94-.94-2.06-.94 2.06-2.06.94zm-11 1L8.5 8.5l.94-2.06 2.06-.94-2.06-.94L8.5 2.5l-.94 2.06-2.06.94zm10 10l.94 2.06.94-2.06 2.06-.94-2.06-.94-.94-2.06-.94 2.06-2.06.94z\"/><path d=\"M17.41 7.96l-1.37-1.37c-.4-.4-.92-.59-1.43-.59-.52 0-1.04.2-1.43.59L10.3 9.45l-7.72 7.72c-.78.78-.78 2.05 0 2.83L4 21.41c.39.39.9.59 1.41.59.51 0 1.02-.2 1.41-.59l7.78-7.78 2.81-2.81c.8-.78.8-2.07 0-2.86zM5.41 20L4 18.59l7.72-7.72 1.47 1.35L5.41 20z\"/>\n",
              "  </svg>\n",
              "      </button>\n",
              "      \n",
              "  <style>\n",
              "    .colab-df-container {\n",
              "      display:flex;\n",
              "      flex-wrap:wrap;\n",
              "      gap: 12px;\n",
              "    }\n",
              "\n",
              "    .colab-df-convert {\n",
              "      background-color: #E8F0FE;\n",
              "      border: none;\n",
              "      border-radius: 50%;\n",
              "      cursor: pointer;\n",
              "      display: none;\n",
              "      fill: #1967D2;\n",
              "      height: 32px;\n",
              "      padding: 0 0 0 0;\n",
              "      width: 32px;\n",
              "    }\n",
              "\n",
              "    .colab-df-convert:hover {\n",
              "      background-color: #E2EBFA;\n",
              "      box-shadow: 0px 1px 2px rgba(60, 64, 67, 0.3), 0px 1px 3px 1px rgba(60, 64, 67, 0.15);\n",
              "      fill: #174EA6;\n",
              "    }\n",
              "\n",
              "    [theme=dark] .colab-df-convert {\n",
              "      background-color: #3B4455;\n",
              "      fill: #D2E3FC;\n",
              "    }\n",
              "\n",
              "    [theme=dark] .colab-df-convert:hover {\n",
              "      background-color: #434B5C;\n",
              "      box-shadow: 0px 1px 3px 1px rgba(0, 0, 0, 0.15);\n",
              "      filter: drop-shadow(0px 1px 2px rgba(0, 0, 0, 0.3));\n",
              "      fill: #FFFFFF;\n",
              "    }\n",
              "  </style>\n",
              "\n",
              "      <script>\n",
              "        const buttonEl =\n",
              "          document.querySelector('#df-d89fee46-9fb6-4f00-aeb6-6c86e70ccb47 button.colab-df-convert');\n",
              "        buttonEl.style.display =\n",
              "          google.colab.kernel.accessAllowed ? 'block' : 'none';\n",
              "\n",
              "        async function convertToInteractive(key) {\n",
              "          const element = document.querySelector('#df-d89fee46-9fb6-4f00-aeb6-6c86e70ccb47');\n",
              "          const dataTable =\n",
              "            await google.colab.kernel.invokeFunction('convertToInteractive',\n",
              "                                                     [key], {});\n",
              "          if (!dataTable) return;\n",
              "\n",
              "          const docLinkHtml = 'Like what you see? Visit the ' +\n",
              "            '<a target=\"_blank\" href=https://colab.research.google.com/notebooks/data_table.ipynb>data table notebook</a>'\n",
              "            + ' to learn more about interactive tables.';\n",
              "          element.innerHTML = '';\n",
              "          dataTable['output_type'] = 'display_data';\n",
              "          await google.colab.output.renderOutput(dataTable, element);\n",
              "          const docLink = document.createElement('div');\n",
              "          docLink.innerHTML = docLinkHtml;\n",
              "          element.appendChild(docLink);\n",
              "        }\n",
              "      </script>\n",
              "    </div>\n",
              "  </div>\n",
              "  "
            ]
          },
          "metadata": {},
          "execution_count": 7
        }
      ]
    },
    {
      "cell_type": "code",
      "source": [
        "print(hr_ds.dtypes)"
      ],
      "metadata": {
        "colab": {
          "base_uri": "https://localhost:8080/"
        },
        "id": "QUZYTL7f4Csn",
        "outputId": "57b3b6b3-99e5-4220-8fd2-0dff5e73b971"
      },
      "execution_count": 8,
      "outputs": [
        {
          "output_type": "stream",
          "name": "stdout",
          "text": [
            "no_of_trainings                   int64\n",
            "age                               int64\n",
            "previous_year_rating            float64\n",
            "length_of_service                 int64\n",
            "KPIs_met >80%                     int64\n",
            "awards_won?                       int64\n",
            "avg_training_score                int64\n",
            "is_promoted                       int64\n",
            "department_Analytics              uint8\n",
            "department_Finance                uint8\n",
            "department_HR                     uint8\n",
            "department_Legal                  uint8\n",
            "department_Operations             uint8\n",
            "department_Procurement            uint8\n",
            "department_R&D                    uint8\n",
            "department_Sales & Marketing      uint8\n",
            "department_Technology             uint8\n",
            "dtype: object\n"
          ]
        }
      ]
    },
    {
      "cell_type": "code",
      "source": [
        "#spliting the dataset into input X and output y variables\n",
        "X = hr_ds.drop(columns=['is_promoted'])\n",
        "y = hr_ds['is_promoted']"
      ],
      "metadata": {
        "id": "YYjjp6YBkoNV"
      },
      "execution_count": 9,
      "outputs": []
    },
    {
      "cell_type": "code",
      "source": [
        "scaler = StandardScaler()\n",
        "X = scaler.fit_transform(X)"
      ],
      "metadata": {
        "id": "QpbuP9j1wlHp"
      },
      "execution_count": 10,
      "outputs": []
    },
    {
      "cell_type": "code",
      "source": [
        "hr_ds.isnull().sum()"
      ],
      "metadata": {
        "colab": {
          "base_uri": "https://localhost:8080/"
        },
        "id": "XNZ5OCeI6zED",
        "outputId": "98282051-4087-420f-87e2-4efa1bd4a18c"
      },
      "execution_count": 11,
      "outputs": [
        {
          "output_type": "execute_result",
          "data": {
            "text/plain": [
              "no_of_trainings                    0\n",
              "age                                0\n",
              "previous_year_rating            4124\n",
              "length_of_service                  0\n",
              "KPIs_met >80%                      0\n",
              "awards_won?                        0\n",
              "avg_training_score                 0\n",
              "is_promoted                        0\n",
              "department_Analytics               0\n",
              "department_Finance                 0\n",
              "department_HR                      0\n",
              "department_Legal                   0\n",
              "department_Operations              0\n",
              "department_Procurement             0\n",
              "department_R&D                     0\n",
              "department_Sales & Marketing       0\n",
              "department_Technology              0\n",
              "dtype: int64"
            ]
          },
          "metadata": {},
          "execution_count": 11
        }
      ]
    },
    {
      "cell_type": "code",
      "source": [
        "# X = hr_ds[['previous_year_rating']]\n",
        "# X_imputed = imputer.fit_transform(X)\n",
        "# X_imputed = hr_ds['previous_year_rating']"
      ],
      "metadata": {
        "id": "3aXfTAfo_gNR"
      },
      "execution_count": 12,
      "outputs": []
    },
    {
      "cell_type": "code",
      "source": [
        "hr_ds.isnull().sum()"
      ],
      "metadata": {
        "colab": {
          "base_uri": "https://localhost:8080/"
        },
        "id": "0JLijOM__43z",
        "outputId": "43a67d7e-10ff-4908-e220-e61ec362ef43"
      },
      "execution_count": 13,
      "outputs": [
        {
          "output_type": "execute_result",
          "data": {
            "text/plain": [
              "no_of_trainings                    0\n",
              "age                                0\n",
              "previous_year_rating            4124\n",
              "length_of_service                  0\n",
              "KPIs_met >80%                      0\n",
              "awards_won?                        0\n",
              "avg_training_score                 0\n",
              "is_promoted                        0\n",
              "department_Analytics               0\n",
              "department_Finance                 0\n",
              "department_HR                      0\n",
              "department_Legal                   0\n",
              "department_Operations              0\n",
              "department_Procurement             0\n",
              "department_R&D                     0\n",
              "department_Sales & Marketing       0\n",
              "department_Technology              0\n",
              "dtype: int64"
            ]
          },
          "metadata": {},
          "execution_count": 13
        }
      ]
    },
    {
      "cell_type": "code",
      "source": [
        "# Splitting the datasets into training and testing sets\n",
        "X_train, X_test, y_train, y_test = train_test_split(X, y, test_size=0.2, random_state=42, stratify=y)"
      ],
      "metadata": {
        "id": "2jf0aVub7BCJ"
      },
      "execution_count": 16,
      "outputs": []
    },
    {
      "cell_type": "code",
      "source": [
        "# standardize the data to a particular level(between 0 and 1)\n",
        "scaler = StandardScaler()\n",
        "X_train_scaled = scaler.fit_transform(X_train)\n",
        "X_test_scaled = scaler.transform(X_test)"
      ],
      "metadata": {
        "id": "BAh0GdnTdhho"
      },
      "execution_count": 17,
      "outputs": []
    },
    {
      "cell_type": "code",
      "source": [
        "# imputer = SimpleImputer(strategy='mean')\n",
        "# cols_to_impute = ['previous_rating_year']\n",
        "# X_train_scaled = pd.DataFrame(imputer.fit_transform(X_train_scaled), columns=X_train.columns)\n",
        "# X_test_scaled = pd.DataFrame(imputer.transform(X_test_scaled), columns=X_test.columns)\n",
        "cols = ['no_of_trainings', 'age', 'previous_year_rating', 'length_of_service',\n",
        "        'KPIs_met >80%', 'awards_won?', 'avg_training_score', 'department_Analytics',\n",
        "        'department_Finance', 'department_HR', 'department_Legal', 'department_Operations',\n",
        "        'department_Procurement', 'department_R&D', 'department_Sales & Marketing',\n",
        "        'department_Technology']\n",
        "imputer = SimpleImputer(strategy='mean')\n",
        "cols_to_impute = ['previous_rating_year']\n",
        "X_train_scaled_imputed = imputer.fit_transform(X_train_scaled)\n",
        "X_test_scaled_imputed = imputer.transform(X_test_scaled)\n",
        "X_train_scaled = pd.DataFrame(X_train_scaled_imputed, columns=cols)\n",
        "X_test_scaled = pd.DataFrame(X_test_scaled_imputed, columns=cols)\n"
      ],
      "metadata": {
        "id": "NnpW57epB2pn"
      },
      "execution_count": 20,
      "outputs": []
    },
    {
      "cell_type": "code",
      "source": [
        "# Training the support vector machine classifier on the training set\n",
        "clf = svm.SVC(kernel='linear')\n",
        "clf.fit(X_train_scaled, y_train)\n",
        "y_pred = clf.predict(X_test_scaled)\n",
        "accuracy = accuracy_score(y_test, y_pred)\n",
        "print(f\"Accuracy: {accuracy}\")"
      ],
      "metadata": {
        "colab": {
          "base_uri": "https://localhost:8080/"
        },
        "id": "7Iok7LWZ7XCU",
        "outputId": "9a4ba783-a5b2-4254-a16b-51b7ff3f5ee2"
      },
      "execution_count": 21,
      "outputs": [
        {
          "output_type": "stream",
          "name": "stdout",
          "text": [
            "Accuracy: 0.9247400109469075\n"
          ]
        }
      ]
    }
  ]
}